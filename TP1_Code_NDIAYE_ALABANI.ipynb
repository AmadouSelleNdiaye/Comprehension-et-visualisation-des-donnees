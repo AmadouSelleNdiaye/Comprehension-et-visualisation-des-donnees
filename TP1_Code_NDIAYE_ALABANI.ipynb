{
 "cells": [
  {
   "cell_type": "markdown",
   "metadata": {},
   "source": [
    "# TP1 Science des donnees - Chakirou ALABANI (alac_3501) - Amadou Selle NDIAYE (ndia2909)"
   ]
  },
  {
   "cell_type": "code",
   "execution_count": 3,
   "metadata": {},
   "outputs": [],
   "source": [
    "import pandas as pd\n",
    "import numpy as np\n",
    "from scipy.spatial.distance import cosine,mahalanobis\n",
    "import seaborn as sns\n",
    "import matplotlib.pyplot as plt\n",
    "import itertools\n",
    "from sklearn.decomposition import PCA\n",
    "from sklearn.manifold import TSNE"
   ]
  },
  {
   "cell_type": "code",
   "execution_count": 4,
   "metadata": {},
   "outputs": [
    {
     "name": "stdout",
     "output_type": "stream",
     "text": [
      "(801, 20532)\n"
     ]
    },
    {
     "data": {
      "text/html": [
       "<div>\n",
       "<style scoped>\n",
       "    .dataframe tbody tr th:only-of-type {\n",
       "        vertical-align: middle;\n",
       "    }\n",
       "\n",
       "    .dataframe tbody tr th {\n",
       "        vertical-align: top;\n",
       "    }\n",
       "\n",
       "    .dataframe thead th {\n",
       "        text-align: right;\n",
       "    }\n",
       "</style>\n",
       "<table border=\"1\" class=\"dataframe\">\n",
       "  <thead>\n",
       "    <tr style=\"text-align: right;\">\n",
       "      <th></th>\n",
       "      <th>Unnamed: 0</th>\n",
       "      <th>gene_0</th>\n",
       "      <th>gene_1</th>\n",
       "      <th>gene_2</th>\n",
       "      <th>gene_3</th>\n",
       "      <th>gene_4</th>\n",
       "      <th>gene_5</th>\n",
       "      <th>gene_6</th>\n",
       "      <th>gene_7</th>\n",
       "      <th>gene_8</th>\n",
       "      <th>...</th>\n",
       "      <th>gene_20521</th>\n",
       "      <th>gene_20522</th>\n",
       "      <th>gene_20523</th>\n",
       "      <th>gene_20524</th>\n",
       "      <th>gene_20525</th>\n",
       "      <th>gene_20526</th>\n",
       "      <th>gene_20527</th>\n",
       "      <th>gene_20528</th>\n",
       "      <th>gene_20529</th>\n",
       "      <th>gene_20530</th>\n",
       "    </tr>\n",
       "  </thead>\n",
       "  <tbody>\n",
       "    <tr>\n",
       "      <th>0</th>\n",
       "      <td>sample_0</td>\n",
       "      <td>0.0</td>\n",
       "      <td>2.017209</td>\n",
       "      <td>3.265527</td>\n",
       "      <td>5.478487</td>\n",
       "      <td>10.431999</td>\n",
       "      <td>0.0</td>\n",
       "      <td>7.175175</td>\n",
       "      <td>0.591871</td>\n",
       "      <td>0.0</td>\n",
       "      <td>...</td>\n",
       "      <td>4.926711</td>\n",
       "      <td>8.210257</td>\n",
       "      <td>9.723516</td>\n",
       "      <td>7.220030</td>\n",
       "      <td>9.119813</td>\n",
       "      <td>12.003135</td>\n",
       "      <td>9.650743</td>\n",
       "      <td>8.921326</td>\n",
       "      <td>5.286759</td>\n",
       "      <td>0.0</td>\n",
       "    </tr>\n",
       "    <tr>\n",
       "      <th>1</th>\n",
       "      <td>sample_1</td>\n",
       "      <td>0.0</td>\n",
       "      <td>0.592732</td>\n",
       "      <td>1.588421</td>\n",
       "      <td>7.586157</td>\n",
       "      <td>9.623011</td>\n",
       "      <td>0.0</td>\n",
       "      <td>6.816049</td>\n",
       "      <td>0.000000</td>\n",
       "      <td>0.0</td>\n",
       "      <td>...</td>\n",
       "      <td>4.593372</td>\n",
       "      <td>7.323865</td>\n",
       "      <td>9.740931</td>\n",
       "      <td>6.256586</td>\n",
       "      <td>8.381612</td>\n",
       "      <td>12.674552</td>\n",
       "      <td>10.517059</td>\n",
       "      <td>9.397854</td>\n",
       "      <td>2.094168</td>\n",
       "      <td>0.0</td>\n",
       "    </tr>\n",
       "    <tr>\n",
       "      <th>2</th>\n",
       "      <td>sample_2</td>\n",
       "      <td>0.0</td>\n",
       "      <td>3.511759</td>\n",
       "      <td>4.327199</td>\n",
       "      <td>6.881787</td>\n",
       "      <td>9.870730</td>\n",
       "      <td>0.0</td>\n",
       "      <td>6.972130</td>\n",
       "      <td>0.452595</td>\n",
       "      <td>0.0</td>\n",
       "      <td>...</td>\n",
       "      <td>5.125213</td>\n",
       "      <td>8.127123</td>\n",
       "      <td>10.908640</td>\n",
       "      <td>5.401607</td>\n",
       "      <td>9.911597</td>\n",
       "      <td>9.045255</td>\n",
       "      <td>9.788359</td>\n",
       "      <td>10.090470</td>\n",
       "      <td>1.683023</td>\n",
       "      <td>0.0</td>\n",
       "    </tr>\n",
       "    <tr>\n",
       "      <th>3</th>\n",
       "      <td>sample_3</td>\n",
       "      <td>0.0</td>\n",
       "      <td>3.663618</td>\n",
       "      <td>4.507649</td>\n",
       "      <td>6.659068</td>\n",
       "      <td>10.196184</td>\n",
       "      <td>0.0</td>\n",
       "      <td>7.843375</td>\n",
       "      <td>0.434882</td>\n",
       "      <td>0.0</td>\n",
       "      <td>...</td>\n",
       "      <td>6.076566</td>\n",
       "      <td>8.792959</td>\n",
       "      <td>10.141520</td>\n",
       "      <td>8.942805</td>\n",
       "      <td>9.601208</td>\n",
       "      <td>11.392682</td>\n",
       "      <td>9.694814</td>\n",
       "      <td>9.684365</td>\n",
       "      <td>3.292001</td>\n",
       "      <td>0.0</td>\n",
       "    </tr>\n",
       "    <tr>\n",
       "      <th>4</th>\n",
       "      <td>sample_4</td>\n",
       "      <td>0.0</td>\n",
       "      <td>2.655741</td>\n",
       "      <td>2.821547</td>\n",
       "      <td>6.539454</td>\n",
       "      <td>9.738265</td>\n",
       "      <td>0.0</td>\n",
       "      <td>6.566967</td>\n",
       "      <td>0.360982</td>\n",
       "      <td>0.0</td>\n",
       "      <td>...</td>\n",
       "      <td>5.996032</td>\n",
       "      <td>8.891425</td>\n",
       "      <td>10.373790</td>\n",
       "      <td>7.181162</td>\n",
       "      <td>9.846910</td>\n",
       "      <td>11.922439</td>\n",
       "      <td>9.217749</td>\n",
       "      <td>9.461191</td>\n",
       "      <td>5.110372</td>\n",
       "      <td>0.0</td>\n",
       "    </tr>\n",
       "  </tbody>\n",
       "</table>\n",
       "<p>5 rows × 20532 columns</p>\n",
       "</div>"
      ],
      "text/plain": [
       "  Unnamed: 0  gene_0    gene_1    gene_2    gene_3     gene_4  gene_5  \\\n",
       "0   sample_0     0.0  2.017209  3.265527  5.478487  10.431999     0.0   \n",
       "1   sample_1     0.0  0.592732  1.588421  7.586157   9.623011     0.0   \n",
       "2   sample_2     0.0  3.511759  4.327199  6.881787   9.870730     0.0   \n",
       "3   sample_3     0.0  3.663618  4.507649  6.659068  10.196184     0.0   \n",
       "4   sample_4     0.0  2.655741  2.821547  6.539454   9.738265     0.0   \n",
       "\n",
       "     gene_6    gene_7  gene_8  ...  gene_20521  gene_20522  gene_20523  \\\n",
       "0  7.175175  0.591871     0.0  ...    4.926711    8.210257    9.723516   \n",
       "1  6.816049  0.000000     0.0  ...    4.593372    7.323865    9.740931   \n",
       "2  6.972130  0.452595     0.0  ...    5.125213    8.127123   10.908640   \n",
       "3  7.843375  0.434882     0.0  ...    6.076566    8.792959   10.141520   \n",
       "4  6.566967  0.360982     0.0  ...    5.996032    8.891425   10.373790   \n",
       "\n",
       "   gene_20524  gene_20525  gene_20526  gene_20527  gene_20528  gene_20529  \\\n",
       "0    7.220030    9.119813   12.003135    9.650743    8.921326    5.286759   \n",
       "1    6.256586    8.381612   12.674552   10.517059    9.397854    2.094168   \n",
       "2    5.401607    9.911597    9.045255    9.788359   10.090470    1.683023   \n",
       "3    8.942805    9.601208   11.392682    9.694814    9.684365    3.292001   \n",
       "4    7.181162    9.846910   11.922439    9.217749    9.461191    5.110372   \n",
       "\n",
       "   gene_20530  \n",
       "0         0.0  \n",
       "1         0.0  \n",
       "2         0.0  \n",
       "3         0.0  \n",
       "4         0.0  \n",
       "\n",
       "[5 rows x 20532 columns]"
      ]
     },
     "execution_count": 4,
     "metadata": {},
     "output_type": "execute_result"
    }
   ],
   "source": [
    "data = pd.read_csv('../data.csv')\n",
    "print(data.shape)\n",
    "data.head()"
   ]
  },
  {
   "cell_type": "code",
   "execution_count": 5,
   "metadata": {},
   "outputs": [
    {
     "name": "stdout",
     "output_type": "stream",
     "text": [
      "(801, 2)\n"
     ]
    },
    {
     "data": {
      "text/html": [
       "<div>\n",
       "<style scoped>\n",
       "    .dataframe tbody tr th:only-of-type {\n",
       "        vertical-align: middle;\n",
       "    }\n",
       "\n",
       "    .dataframe tbody tr th {\n",
       "        vertical-align: top;\n",
       "    }\n",
       "\n",
       "    .dataframe thead th {\n",
       "        text-align: right;\n",
       "    }\n",
       "</style>\n",
       "<table border=\"1\" class=\"dataframe\">\n",
       "  <thead>\n",
       "    <tr style=\"text-align: right;\">\n",
       "      <th></th>\n",
       "      <th>Unnamed: 0</th>\n",
       "      <th>Class</th>\n",
       "    </tr>\n",
       "  </thead>\n",
       "  <tbody>\n",
       "    <tr>\n",
       "      <th>0</th>\n",
       "      <td>sample_0</td>\n",
       "      <td>PRAD</td>\n",
       "    </tr>\n",
       "    <tr>\n",
       "      <th>1</th>\n",
       "      <td>sample_1</td>\n",
       "      <td>LUAD</td>\n",
       "    </tr>\n",
       "    <tr>\n",
       "      <th>2</th>\n",
       "      <td>sample_2</td>\n",
       "      <td>PRAD</td>\n",
       "    </tr>\n",
       "    <tr>\n",
       "      <th>3</th>\n",
       "      <td>sample_3</td>\n",
       "      <td>PRAD</td>\n",
       "    </tr>\n",
       "    <tr>\n",
       "      <th>4</th>\n",
       "      <td>sample_4</td>\n",
       "      <td>BRCA</td>\n",
       "    </tr>\n",
       "  </tbody>\n",
       "</table>\n",
       "</div>"
      ],
      "text/plain": [
       "  Unnamed: 0 Class\n",
       "0   sample_0  PRAD\n",
       "1   sample_1  LUAD\n",
       "2   sample_2  PRAD\n",
       "3   sample_3  PRAD\n",
       "4   sample_4  BRCA"
      ]
     },
     "execution_count": 5,
     "metadata": {},
     "output_type": "execute_result"
    }
   ],
   "source": [
    "data_labels = pd.read_csv('../labels.csv')\n",
    "print(data_labels.shape)\n",
    "data_labels.head()"
   ]
  },
  {
   "cell_type": "code",
   "execution_count": 6,
   "metadata": {},
   "outputs": [
    {
     "name": "stdout",
     "output_type": "stream",
     "text": [
      "PRAD\n"
     ]
    }
   ],
   "source": [
    "print(data_labels['Class'][0])"
   ]
  },
  {
   "cell_type": "markdown",
   "metadata": {},
   "source": [
    "# Merge"
   ]
  },
  {
   "cell_type": "code",
   "execution_count": 7,
   "metadata": {},
   "outputs": [
    {
     "data": {
      "text/html": [
       "<div>\n",
       "<style scoped>\n",
       "    .dataframe tbody tr th:only-of-type {\n",
       "        vertical-align: middle;\n",
       "    }\n",
       "\n",
       "    .dataframe tbody tr th {\n",
       "        vertical-align: top;\n",
       "    }\n",
       "\n",
       "    .dataframe thead th {\n",
       "        text-align: right;\n",
       "    }\n",
       "</style>\n",
       "<table border=\"1\" class=\"dataframe\">\n",
       "  <thead>\n",
       "    <tr style=\"text-align: right;\">\n",
       "      <th></th>\n",
       "      <th>Unnamed: 0</th>\n",
       "      <th>gene_0</th>\n",
       "      <th>gene_1</th>\n",
       "      <th>gene_2</th>\n",
       "      <th>gene_3</th>\n",
       "      <th>gene_4</th>\n",
       "      <th>gene_5</th>\n",
       "      <th>gene_6</th>\n",
       "      <th>gene_7</th>\n",
       "      <th>gene_8</th>\n",
       "      <th>...</th>\n",
       "      <th>gene_20522</th>\n",
       "      <th>gene_20523</th>\n",
       "      <th>gene_20524</th>\n",
       "      <th>gene_20525</th>\n",
       "      <th>gene_20526</th>\n",
       "      <th>gene_20527</th>\n",
       "      <th>gene_20528</th>\n",
       "      <th>gene_20529</th>\n",
       "      <th>gene_20530</th>\n",
       "      <th>Class</th>\n",
       "    </tr>\n",
       "  </thead>\n",
       "  <tbody>\n",
       "    <tr>\n",
       "      <th>0</th>\n",
       "      <td>sample_0</td>\n",
       "      <td>0.0</td>\n",
       "      <td>2.017209</td>\n",
       "      <td>3.265527</td>\n",
       "      <td>5.478487</td>\n",
       "      <td>10.431999</td>\n",
       "      <td>0.0</td>\n",
       "      <td>7.175175</td>\n",
       "      <td>0.591871</td>\n",
       "      <td>0.0</td>\n",
       "      <td>...</td>\n",
       "      <td>8.210257</td>\n",
       "      <td>9.723516</td>\n",
       "      <td>7.220030</td>\n",
       "      <td>9.119813</td>\n",
       "      <td>12.003135</td>\n",
       "      <td>9.650743</td>\n",
       "      <td>8.921326</td>\n",
       "      <td>5.286759</td>\n",
       "      <td>0.0</td>\n",
       "      <td>PRAD</td>\n",
       "    </tr>\n",
       "    <tr>\n",
       "      <th>1</th>\n",
       "      <td>sample_1</td>\n",
       "      <td>0.0</td>\n",
       "      <td>0.592732</td>\n",
       "      <td>1.588421</td>\n",
       "      <td>7.586157</td>\n",
       "      <td>9.623011</td>\n",
       "      <td>0.0</td>\n",
       "      <td>6.816049</td>\n",
       "      <td>0.000000</td>\n",
       "      <td>0.0</td>\n",
       "      <td>...</td>\n",
       "      <td>7.323865</td>\n",
       "      <td>9.740931</td>\n",
       "      <td>6.256586</td>\n",
       "      <td>8.381612</td>\n",
       "      <td>12.674552</td>\n",
       "      <td>10.517059</td>\n",
       "      <td>9.397854</td>\n",
       "      <td>2.094168</td>\n",
       "      <td>0.0</td>\n",
       "      <td>LUAD</td>\n",
       "    </tr>\n",
       "    <tr>\n",
       "      <th>2</th>\n",
       "      <td>sample_2</td>\n",
       "      <td>0.0</td>\n",
       "      <td>3.511759</td>\n",
       "      <td>4.327199</td>\n",
       "      <td>6.881787</td>\n",
       "      <td>9.870730</td>\n",
       "      <td>0.0</td>\n",
       "      <td>6.972130</td>\n",
       "      <td>0.452595</td>\n",
       "      <td>0.0</td>\n",
       "      <td>...</td>\n",
       "      <td>8.127123</td>\n",
       "      <td>10.908640</td>\n",
       "      <td>5.401607</td>\n",
       "      <td>9.911597</td>\n",
       "      <td>9.045255</td>\n",
       "      <td>9.788359</td>\n",
       "      <td>10.090470</td>\n",
       "      <td>1.683023</td>\n",
       "      <td>0.0</td>\n",
       "      <td>PRAD</td>\n",
       "    </tr>\n",
       "    <tr>\n",
       "      <th>3</th>\n",
       "      <td>sample_3</td>\n",
       "      <td>0.0</td>\n",
       "      <td>3.663618</td>\n",
       "      <td>4.507649</td>\n",
       "      <td>6.659068</td>\n",
       "      <td>10.196184</td>\n",
       "      <td>0.0</td>\n",
       "      <td>7.843375</td>\n",
       "      <td>0.434882</td>\n",
       "      <td>0.0</td>\n",
       "      <td>...</td>\n",
       "      <td>8.792959</td>\n",
       "      <td>10.141520</td>\n",
       "      <td>8.942805</td>\n",
       "      <td>9.601208</td>\n",
       "      <td>11.392682</td>\n",
       "      <td>9.694814</td>\n",
       "      <td>9.684365</td>\n",
       "      <td>3.292001</td>\n",
       "      <td>0.0</td>\n",
       "      <td>PRAD</td>\n",
       "    </tr>\n",
       "    <tr>\n",
       "      <th>4</th>\n",
       "      <td>sample_4</td>\n",
       "      <td>0.0</td>\n",
       "      <td>2.655741</td>\n",
       "      <td>2.821547</td>\n",
       "      <td>6.539454</td>\n",
       "      <td>9.738265</td>\n",
       "      <td>0.0</td>\n",
       "      <td>6.566967</td>\n",
       "      <td>0.360982</td>\n",
       "      <td>0.0</td>\n",
       "      <td>...</td>\n",
       "      <td>8.891425</td>\n",
       "      <td>10.373790</td>\n",
       "      <td>7.181162</td>\n",
       "      <td>9.846910</td>\n",
       "      <td>11.922439</td>\n",
       "      <td>9.217749</td>\n",
       "      <td>9.461191</td>\n",
       "      <td>5.110372</td>\n",
       "      <td>0.0</td>\n",
       "      <td>BRCA</td>\n",
       "    </tr>\n",
       "  </tbody>\n",
       "</table>\n",
       "<p>5 rows × 20533 columns</p>\n",
       "</div>"
      ],
      "text/plain": [
       "  Unnamed: 0  gene_0    gene_1    gene_2    gene_3     gene_4  gene_5  \\\n",
       "0   sample_0     0.0  2.017209  3.265527  5.478487  10.431999     0.0   \n",
       "1   sample_1     0.0  0.592732  1.588421  7.586157   9.623011     0.0   \n",
       "2   sample_2     0.0  3.511759  4.327199  6.881787   9.870730     0.0   \n",
       "3   sample_3     0.0  3.663618  4.507649  6.659068  10.196184     0.0   \n",
       "4   sample_4     0.0  2.655741  2.821547  6.539454   9.738265     0.0   \n",
       "\n",
       "     gene_6    gene_7  gene_8  ...  gene_20522  gene_20523  gene_20524  \\\n",
       "0  7.175175  0.591871     0.0  ...    8.210257    9.723516    7.220030   \n",
       "1  6.816049  0.000000     0.0  ...    7.323865    9.740931    6.256586   \n",
       "2  6.972130  0.452595     0.0  ...    8.127123   10.908640    5.401607   \n",
       "3  7.843375  0.434882     0.0  ...    8.792959   10.141520    8.942805   \n",
       "4  6.566967  0.360982     0.0  ...    8.891425   10.373790    7.181162   \n",
       "\n",
       "   gene_20525  gene_20526  gene_20527  gene_20528  gene_20529  gene_20530  \\\n",
       "0    9.119813   12.003135    9.650743    8.921326    5.286759         0.0   \n",
       "1    8.381612   12.674552   10.517059    9.397854    2.094168         0.0   \n",
       "2    9.911597    9.045255    9.788359   10.090470    1.683023         0.0   \n",
       "3    9.601208   11.392682    9.694814    9.684365    3.292001         0.0   \n",
       "4    9.846910   11.922439    9.217749    9.461191    5.110372         0.0   \n",
       "\n",
       "   Class  \n",
       "0   PRAD  \n",
       "1   LUAD  \n",
       "2   PRAD  \n",
       "3   PRAD  \n",
       "4   BRCA  \n",
       "\n",
       "[5 rows x 20533 columns]"
      ]
     },
     "execution_count": 7,
     "metadata": {},
     "output_type": "execute_result"
    }
   ],
   "source": [
    "df = pd.merge(data,data_labels, on='Unnamed: 0',how='inner')\n",
    "df.head()"
   ]
  },
  {
   "cell_type": "markdown",
   "metadata": {},
   "source": [
    "# Pre-traitement"
   ]
  },
  {
   "cell_type": "code",
   "execution_count": 8,
   "metadata": {},
   "outputs": [
    {
     "data": {
      "text/html": [
       "<div>\n",
       "<style scoped>\n",
       "    .dataframe tbody tr th:only-of-type {\n",
       "        vertical-align: middle;\n",
       "    }\n",
       "\n",
       "    .dataframe tbody tr th {\n",
       "        vertical-align: top;\n",
       "    }\n",
       "\n",
       "    .dataframe thead th {\n",
       "        text-align: right;\n",
       "    }\n",
       "</style>\n",
       "<table border=\"1\" class=\"dataframe\">\n",
       "  <thead>\n",
       "    <tr style=\"text-align: right;\">\n",
       "      <th></th>\n",
       "      <th>gene_0</th>\n",
       "      <th>gene_1</th>\n",
       "      <th>gene_2</th>\n",
       "      <th>gene_3</th>\n",
       "      <th>gene_4</th>\n",
       "      <th>gene_5</th>\n",
       "      <th>gene_6</th>\n",
       "      <th>gene_7</th>\n",
       "      <th>gene_8</th>\n",
       "      <th>gene_9</th>\n",
       "      <th>...</th>\n",
       "      <th>gene_20522</th>\n",
       "      <th>gene_20523</th>\n",
       "      <th>gene_20524</th>\n",
       "      <th>gene_20525</th>\n",
       "      <th>gene_20526</th>\n",
       "      <th>gene_20527</th>\n",
       "      <th>gene_20528</th>\n",
       "      <th>gene_20529</th>\n",
       "      <th>gene_20530</th>\n",
       "      <th>Class</th>\n",
       "    </tr>\n",
       "  </thead>\n",
       "  <tbody>\n",
       "    <tr>\n",
       "      <th>0</th>\n",
       "      <td>0.0</td>\n",
       "      <td>2.017209</td>\n",
       "      <td>3.265527</td>\n",
       "      <td>5.478487</td>\n",
       "      <td>10.431999</td>\n",
       "      <td>0.0</td>\n",
       "      <td>7.175175</td>\n",
       "      <td>0.591871</td>\n",
       "      <td>0.0</td>\n",
       "      <td>0.0</td>\n",
       "      <td>...</td>\n",
       "      <td>8.210257</td>\n",
       "      <td>9.723516</td>\n",
       "      <td>7.220030</td>\n",
       "      <td>9.119813</td>\n",
       "      <td>12.003135</td>\n",
       "      <td>9.650743</td>\n",
       "      <td>8.921326</td>\n",
       "      <td>5.286759</td>\n",
       "      <td>0.0</td>\n",
       "      <td>PRAD</td>\n",
       "    </tr>\n",
       "    <tr>\n",
       "      <th>1</th>\n",
       "      <td>0.0</td>\n",
       "      <td>0.592732</td>\n",
       "      <td>1.588421</td>\n",
       "      <td>7.586157</td>\n",
       "      <td>9.623011</td>\n",
       "      <td>0.0</td>\n",
       "      <td>6.816049</td>\n",
       "      <td>0.000000</td>\n",
       "      <td>0.0</td>\n",
       "      <td>0.0</td>\n",
       "      <td>...</td>\n",
       "      <td>7.323865</td>\n",
       "      <td>9.740931</td>\n",
       "      <td>6.256586</td>\n",
       "      <td>8.381612</td>\n",
       "      <td>12.674552</td>\n",
       "      <td>10.517059</td>\n",
       "      <td>9.397854</td>\n",
       "      <td>2.094168</td>\n",
       "      <td>0.0</td>\n",
       "      <td>LUAD</td>\n",
       "    </tr>\n",
       "    <tr>\n",
       "      <th>2</th>\n",
       "      <td>0.0</td>\n",
       "      <td>3.511759</td>\n",
       "      <td>4.327199</td>\n",
       "      <td>6.881787</td>\n",
       "      <td>9.870730</td>\n",
       "      <td>0.0</td>\n",
       "      <td>6.972130</td>\n",
       "      <td>0.452595</td>\n",
       "      <td>0.0</td>\n",
       "      <td>0.0</td>\n",
       "      <td>...</td>\n",
       "      <td>8.127123</td>\n",
       "      <td>10.908640</td>\n",
       "      <td>5.401607</td>\n",
       "      <td>9.911597</td>\n",
       "      <td>9.045255</td>\n",
       "      <td>9.788359</td>\n",
       "      <td>10.090470</td>\n",
       "      <td>1.683023</td>\n",
       "      <td>0.0</td>\n",
       "      <td>PRAD</td>\n",
       "    </tr>\n",
       "    <tr>\n",
       "      <th>3</th>\n",
       "      <td>0.0</td>\n",
       "      <td>3.663618</td>\n",
       "      <td>4.507649</td>\n",
       "      <td>6.659068</td>\n",
       "      <td>10.196184</td>\n",
       "      <td>0.0</td>\n",
       "      <td>7.843375</td>\n",
       "      <td>0.434882</td>\n",
       "      <td>0.0</td>\n",
       "      <td>0.0</td>\n",
       "      <td>...</td>\n",
       "      <td>8.792959</td>\n",
       "      <td>10.141520</td>\n",
       "      <td>8.942805</td>\n",
       "      <td>9.601208</td>\n",
       "      <td>11.392682</td>\n",
       "      <td>9.694814</td>\n",
       "      <td>9.684365</td>\n",
       "      <td>3.292001</td>\n",
       "      <td>0.0</td>\n",
       "      <td>PRAD</td>\n",
       "    </tr>\n",
       "    <tr>\n",
       "      <th>4</th>\n",
       "      <td>0.0</td>\n",
       "      <td>2.655741</td>\n",
       "      <td>2.821547</td>\n",
       "      <td>6.539454</td>\n",
       "      <td>9.738265</td>\n",
       "      <td>0.0</td>\n",
       "      <td>6.566967</td>\n",
       "      <td>0.360982</td>\n",
       "      <td>0.0</td>\n",
       "      <td>0.0</td>\n",
       "      <td>...</td>\n",
       "      <td>8.891425</td>\n",
       "      <td>10.373790</td>\n",
       "      <td>7.181162</td>\n",
       "      <td>9.846910</td>\n",
       "      <td>11.922439</td>\n",
       "      <td>9.217749</td>\n",
       "      <td>9.461191</td>\n",
       "      <td>5.110372</td>\n",
       "      <td>0.0</td>\n",
       "      <td>BRCA</td>\n",
       "    </tr>\n",
       "  </tbody>\n",
       "</table>\n",
       "<p>5 rows × 20532 columns</p>\n",
       "</div>"
      ],
      "text/plain": [
       "   gene_0    gene_1    gene_2    gene_3     gene_4  gene_5    gene_6  \\\n",
       "0     0.0  2.017209  3.265527  5.478487  10.431999     0.0  7.175175   \n",
       "1     0.0  0.592732  1.588421  7.586157   9.623011     0.0  6.816049   \n",
       "2     0.0  3.511759  4.327199  6.881787   9.870730     0.0  6.972130   \n",
       "3     0.0  3.663618  4.507649  6.659068  10.196184     0.0  7.843375   \n",
       "4     0.0  2.655741  2.821547  6.539454   9.738265     0.0  6.566967   \n",
       "\n",
       "     gene_7  gene_8  gene_9  ...  gene_20522  gene_20523  gene_20524  \\\n",
       "0  0.591871     0.0     0.0  ...    8.210257    9.723516    7.220030   \n",
       "1  0.000000     0.0     0.0  ...    7.323865    9.740931    6.256586   \n",
       "2  0.452595     0.0     0.0  ...    8.127123   10.908640    5.401607   \n",
       "3  0.434882     0.0     0.0  ...    8.792959   10.141520    8.942805   \n",
       "4  0.360982     0.0     0.0  ...    8.891425   10.373790    7.181162   \n",
       "\n",
       "   gene_20525  gene_20526  gene_20527  gene_20528  gene_20529  gene_20530  \\\n",
       "0    9.119813   12.003135    9.650743    8.921326    5.286759         0.0   \n",
       "1    8.381612   12.674552   10.517059    9.397854    2.094168         0.0   \n",
       "2    9.911597    9.045255    9.788359   10.090470    1.683023         0.0   \n",
       "3    9.601208   11.392682    9.694814    9.684365    3.292001         0.0   \n",
       "4    9.846910   11.922439    9.217749    9.461191    5.110372         0.0   \n",
       "\n",
       "   Class  \n",
       "0   PRAD  \n",
       "1   LUAD  \n",
       "2   PRAD  \n",
       "3   PRAD  \n",
       "4   BRCA  \n",
       "\n",
       "[5 rows x 20532 columns]"
      ]
     },
     "execution_count": 8,
     "metadata": {},
     "output_type": "execute_result"
    }
   ],
   "source": [
    "#Suppression de 'Unnamed: 0'\n",
    "df= df.drop(columns=['Unnamed: 0'],axis=1)\n",
    "df.head()"
   ]
  },
  {
   "cell_type": "code",
   "execution_count": 9,
   "metadata": {},
   "outputs": [
    {
     "data": {
      "text/plain": [
       "1927"
      ]
     },
     "execution_count": 9,
     "metadata": {},
     "output_type": "execute_result"
    }
   ],
   "source": [
    "#Selection de toutes les colonnes avec plus de 75 % de valeurs nulles\n",
    "colonnes_a_supprimer=[]\n",
    "\n",
    "for i in df.columns:\n",
    "    s=0\n",
    "    for j in range(df.shape[0]):\n",
    "        if df[i][j] == 0:\n",
    "            s+=1\n",
    "    if (s/df.shape[0]) >= 0.75:\n",
    "        colonnes_a_supprimer.append(i)\n",
    "\n",
    "len(colonnes_a_supprimer)"
   ]
  },
  {
   "cell_type": "code",
   "execution_count": 10,
   "metadata": {},
   "outputs": [],
   "source": [
    "#Suppression des colonnes selctionnees\n",
    "df_filtree = df.drop(columns=colonnes_a_supprimer,axis=1)"
   ]
  },
  {
   "cell_type": "code",
   "execution_count": 11,
   "metadata": {},
   "outputs": [
    {
     "data": {
      "text/plain": [
       "(801, 18605)"
      ]
     },
     "execution_count": 11,
     "metadata": {},
     "output_type": "execute_result"
    }
   ],
   "source": [
    "df_filtree.shape"
   ]
  },
  {
   "cell_type": "code",
   "execution_count": 29,
   "metadata": {},
   "outputs": [],
   "source": [
    "#Correlation entre les attributs et Suppression des attributs avec correlation > 0.7\n",
    "def correlation_entre_attributs(df,thresold):\n",
    "    attr=set()\n",
    "    corr_matrix=df.corr()\n",
    "    for i in range(len(corr_matrix.columns)):\n",
    "        for j in range(i):\n",
    "            if abs(corr_matrix.iloc[i,j])>thresold:\n",
    "                coln=corr_matrix.columns[i]\n",
    "                attr.add(coln)\n",
    "    return attr   "
   ]
  },
  {
   "cell_type": "code",
   "execution_count": 31,
   "metadata": {},
   "outputs": [
    {
     "name": "stdout",
     "output_type": "stream",
     "text": [
      "Attribut a supprimer\n"
     ]
    }
   ],
   "source": [
    "\n",
    "print(\"Attribut a supprimer\")\n",
    "correlation_entre_attributs(df_filtree.drop('Class',axis=1),0.7)"
   ]
  },
  {
   "cell_type": "code",
   "execution_count": 12,
   "metadata": {},
   "outputs": [
    {
     "data": {
      "text/plain": [
       "Class\n",
       "BRCA    300\n",
       "KIRC    146\n",
       "LUAD    141\n",
       "PRAD    136\n",
       "COAD     78\n",
       "Name: count, dtype: int64"
      ]
     },
     "execution_count": 12,
     "metadata": {},
     "output_type": "execute_result"
    }
   ],
   "source": [
    "#Representation des classes\n",
    "df_filtree['Class'].value_counts()"
   ]
  },
  {
   "cell_type": "markdown",
   "metadata": {},
   "source": [
    "# Methode 1: Calcul de distances"
   ]
  },
  {
   "cell_type": "markdown",
   "metadata": {},
   "source": [
    "## 1.1 Calcul des centres de classes"
   ]
  },
  {
   "cell_type": "code",
   "execution_count": 13,
   "metadata": {},
   "outputs": [],
   "source": [
    "#centre des classes pour la distance euclidienne et cosinus\n",
    "centre_des_classe= {}\n",
    "\n",
    "liste_classe = df_filtree['Class'].unique()\n",
    "\n",
    "for classe in liste_classe:\n",
    "    df_classe_i = df_filtree[df_filtree['Class']==classe]\n",
    "    centre_df_classe_i = df_classe_i.drop(columns='Class',axis=1).mean()\n",
    "    \n",
    "    centre_des_classe[classe]= centre_df_classe_i\n"
   ]
  },
  {
   "cell_type": "markdown",
   "metadata": {},
   "source": [
    "## 1.2 Distance Euclidienne"
   ]
  },
  {
   "cell_type": "markdown",
   "metadata": {},
   "source": [
    "### - Distance intra-classe (Euclidienne)"
   ]
  },
  {
   "cell_type": "code",
   "execution_count": 14,
   "metadata": {},
   "outputs": [
    {
     "name": "stdout",
     "output_type": "stream",
     "text": [
      "La distance intra-classe entre PRAD est 238.83\n",
      "La distance intra-classe entre LUAD est 255.74\n",
      "La distance intra-classe entre BRCA est 256.19\n",
      "La distance intra-classe entre KIRC est 261.30\n",
      "La distance intra-classe entre COAD est 248.11\n"
     ]
    }
   ],
   "source": [
    "\n",
    "distance_intra_classe_euclid={}\n",
    "\n",
    "\n",
    "for classe  in liste_classe:\n",
    "\n",
    "    #Selection des enregistrements avec la sortie classe\n",
    "    dfclasse=df_filtree[df_filtree['Class']==classe]\n",
    "    dfclasse_without_target=dfclasse.drop(columns='Class',axis=1)\n",
    "\n",
    "    #Calcul de la distance euclidienne\n",
    "    dist = np.linalg.norm(dfclasse_without_target- centre_des_classe[classe],axis=1)\n",
    "\n",
    "    #Selection de la distance maximale\n",
    "    distance_intra_classe_euclid[classe]= max(dist)\n",
    "\n",
    "\n",
    "for classe, distance in distance_intra_classe_euclid.items():\n",
    "    print(f\"La distance intra-classe entre {classe} est {distance:.2f}\")"
   ]
  },
  {
   "cell_type": "markdown",
   "metadata": {},
   "source": [
    "### - Distance inter-classe (Euclidienne)"
   ]
  },
  {
   "cell_type": "code",
   "execution_count": 15,
   "metadata": {},
   "outputs": [
    {
     "name": "stdout",
     "output_type": "stream",
     "text": [
      "La distance inter-classe entre PRAD - LUAD est 185.48\n",
      "La distance inter-classe entre PRAD - BRCA est 176.37\n",
      "La distance inter-classe entre PRAD - KIRC est 225.05\n",
      "La distance inter-classe entre PRAD - COAD est 216.53\n",
      "La distance inter-classe entre LUAD - BRCA est 166.35\n",
      "La distance inter-classe entre LUAD - KIRC est 198.81\n",
      "La distance inter-classe entre LUAD - COAD est 180.42\n",
      "La distance inter-classe entre BRCA - KIRC est 213.97\n",
      "La distance inter-classe entre BRCA - COAD est 195.65\n",
      "La distance inter-classe entre KIRC - COAD est 220.86\n"
     ]
    }
   ],
   "source": [
    "distance_inter_classe_euclid = {}\n",
    "\n",
    "for classe_i, classe_j in itertools.combinations(liste_classe, 2):\n",
    "    \n",
    "    #Selection des enregistrements avec la combinaison de deux classes differentes\n",
    "    dfclasse_i = df_filtree[df_filtree['Class'] == classe_i]\n",
    "    dfclasse_j = df_filtree[df_filtree['Class'] == classe_j]\n",
    "\n",
    "    #Suppression de la colonne 'Class'\n",
    "    dfclasse_i_without_target = dfclasse_i.drop(columns='Class', axis=1)\n",
    "    dfclasse_j_without_target = dfclasse_j.drop(columns='Class', axis=1)\n",
    "\n",
    "    #Calcul de la distance inter-classe euclidienne\n",
    "    dist_i_j = np.linalg.norm(dfclasse_i_without_target - centre_des_classe[classe_j], axis=1)\n",
    "\n",
    "    dist_j_i = np.linalg.norm(dfclasse_j_without_target - centre_des_classe[classe_i], axis=1)\n",
    "\n",
    "    #Sele\n",
    "    distance_inter_classe_euclid[f\"{classe_i} - {classe_j}\"] = min(np.min(dist_i_j), np.min(dist_j_i))\n",
    "\n",
    "\n",
    "for classe, distance in distance_inter_classe_euclid.items():\n",
    "    print(f\"La distance inter-classe entre {classe} est {distance:.2f}\")\n"
   ]
  },
  {
   "cell_type": "markdown",
   "metadata": {},
   "source": [
    "### - OverLap (Euclidienne)"
   ]
  },
  {
   "cell_type": "code",
   "execution_count": 16,
   "metadata": {},
   "outputs": [
    {
     "name": "stdout",
     "output_type": "stream",
     "text": [
      "L'overlap de PRAD - LUAD est 1.33\n",
      "les classes PRAD - LUAD ne sont pas bien separees.\n",
      "L'overlap de PRAD - BRCA est 1.40\n",
      "les classes PRAD - BRCA ne sont pas bien separees.\n",
      "L'overlap de PRAD - KIRC est 1.11\n",
      "les classes PRAD - KIRC ne sont pas bien separees.\n",
      "L'overlap de PRAD - COAD est 1.12\n",
      "les classes PRAD - COAD ne sont pas bien separees.\n",
      "L'overlap de LUAD - BRCA est 1.54\n",
      "les classes LUAD - BRCA ne sont pas bien separees.\n",
      "L'overlap de LUAD - KIRC est 1.30\n",
      "les classes LUAD - KIRC ne sont pas bien separees.\n",
      "L'overlap de LUAD - COAD est 1.40\n",
      "les classes LUAD - COAD ne sont pas bien separees.\n",
      "L'overlap de BRCA - KIRC est 1.21\n",
      "les classes BRCA - KIRC ne sont pas bien separees.\n",
      "L'overlap de BRCA - COAD est 1.29\n",
      "les classes BRCA - COAD ne sont pas bien separees.\n",
      "L'overlap de KIRC - COAD est 1.15\n",
      "les classes KIRC - COAD ne sont pas bien separees.\n"
     ]
    }
   ],
   "source": [
    "overlap_euclid = {}\n",
    "\n",
    "for i, classe_i in enumerate(liste_classe):\n",
    "    for classe_j in liste_classe[i+1:]:\n",
    "\n",
    "        key = f\"{classe_i} - {classe_j}\"\n",
    "        distance_inter_i_j = distance_inter_classe_euclid[key]\n",
    "        \n",
    "        #Calcul de l'overlap\n",
    "        overlap_i_j = (distance_intra_classe_euclid[classe_i] + distance_intra_classe_euclid[classe_j]) / (2 * distance_inter_i_j)\n",
    "        overlap_euclid[key] = overlap_i_j\n",
    "\n",
    "for classe, distance in overlap_euclid.items():\n",
    "    print(f\"L'overlap de {classe} est {distance:.2f}\")\n",
    "\n",
    "    if distance < 1:\n",
    "        print(f\"les classes {classe} sont bien separees.\")\n",
    "    else:\n",
    "        print(f\"les classes {classe} ne sont pas bien separees.\")\n"
   ]
  },
  {
   "cell_type": "markdown",
   "metadata": {},
   "source": [
    "## 1.3 Distance Cosinus"
   ]
  },
  {
   "cell_type": "markdown",
   "metadata": {},
   "source": [
    "###  - Distance intra-classe (Cosinus)"
   ]
  },
  {
   "cell_type": "code",
   "execution_count": 17,
   "metadata": {},
   "outputs": [
    {
     "name": "stdout",
     "output_type": "stream",
     "text": [
      "La distance intra-classe entre PRAD est 0.0245\n",
      "La distance intra-classe entre LUAD est 0.0281\n",
      "La distance intra-classe entre BRCA est 0.0287\n",
      "La distance intra-classe entre KIRC est 0.0282\n",
      "La distance intra-classe entre COAD est 0.0231\n"
     ]
    }
   ],
   "source": [
    "distance_intra_classe_cosinus = {}\n",
    "\n",
    "for classe in liste_classe:\n",
    "    df_classe = df_filtree[df_filtree['Class'] == classe]\n",
    "    centre = centre_des_classe[classe]\n",
    "\n",
    "    #Calcul des distances en les mettant dans une liste\n",
    "    distances = [cosine(row, centre) for row in df_classe.drop(columns='Class', axis=1).values]\n",
    "\n",
    "    distance_intra_classe_cosinus[classe] = max(distances)\n",
    "\n",
    "for classe, distance in distance_intra_classe_cosinus.items():\n",
    "    print(f\"La distance intra-classe entre {classe} est {distance:.4f}\")"
   ]
  },
  {
   "cell_type": "markdown",
   "metadata": {},
   "source": [
    "### - Distance inter-classe (Cosinus)"
   ]
  },
  {
   "cell_type": "code",
   "execution_count": 18,
   "metadata": {},
   "outputs": [
    {
     "name": "stdout",
     "output_type": "stream",
     "text": [
      "La distance inter-classe entre PRAD - LUAD est 0.0140\n",
      "La distance inter-classe entre PRAD - BRCA est 0.0125\n",
      "La distance inter-classe entre PRAD - KIRC est 0.0207\n",
      "La distance inter-classe entre PRAD - COAD est 0.0193\n",
      "La distance inter-classe entre LUAD - BRCA est 0.0112\n",
      "La distance inter-classe entre LUAD - KIRC est 0.0160\n",
      "La distance inter-classe entre LUAD - COAD est 0.0138\n",
      "La distance inter-classe entre BRCA - KIRC est 0.0188\n",
      "La distance inter-classe entre BRCA - COAD est 0.0157\n",
      "La distance inter-classe entre KIRC - COAD est 0.0201\n"
     ]
    }
   ],
   "source": [
    "distance_inter_classe_cosinus = {}\n",
    "\n",
    "for classe_i, classe_j in itertools.combinations(liste_classe,2):\n",
    "\n",
    "    dfclasse_i = df_filtree[df_filtree['Class'] == classe_i]\n",
    "    dfclasse_i_without_target = dfclasse_i.drop(columns='Class', axis=1)\n",
    "\n",
    "    dfclasse_j = df_filtree[df_filtree['Class'] == classe_j]\n",
    "    dfclasse_j_without_target = dfclasse_j.drop(columns='Class', axis=1)\n",
    "\n",
    "    dist_i_j = [cosine(dfclasse_i_without_target.iloc[x, :], centre_des_classe[classe_j]) for x in range(dfclasse_i_without_target.shape[0])]\n",
    "    dist_j_i = [cosine(dfclasse_j_without_target.iloc[z, :], centre_des_classe[classe_i]) for z in range(dfclasse_j_without_target.shape[0])]\n",
    "\n",
    "    distance_inter_classe_cosinus[f\"{classe_i} - {classe_j}\"] = min(min(dist_i_j), min(dist_j_i))\n",
    "    \n",
    "        \n",
    "\n",
    "for classe, distance in distance_inter_classe_cosinus.items():\n",
    "    print(f\"La distance inter-classe entre {classe} est {distance:.4f}\")\n"
   ]
  },
  {
   "cell_type": "markdown",
   "metadata": {},
   "source": [
    "### - Overlap (Cosinus)"
   ]
  },
  {
   "cell_type": "code",
   "execution_count": 19,
   "metadata": {},
   "outputs": [
    {
     "name": "stdout",
     "output_type": "stream",
     "text": [
      "L'overlap de PRAD - LUAD est 1.88\n",
      "les classes PRAD - LUAD ne sont pas bien separees.\n",
      "L'overlap de PRAD - BRCA est 2.13\n",
      "les classes PRAD - BRCA ne sont pas bien separees.\n",
      "L'overlap de PRAD - KIRC est 1.27\n",
      "les classes PRAD - KIRC ne sont pas bien separees.\n",
      "L'overlap de PRAD - COAD est 1.23\n",
      "les classes PRAD - COAD ne sont pas bien separees.\n",
      "L'overlap de LUAD - BRCA est 2.53\n",
      "les classes LUAD - BRCA ne sont pas bien separees.\n",
      "L'overlap de LUAD - KIRC est 1.76\n",
      "les classes LUAD - KIRC ne sont pas bien separees.\n",
      "L'overlap de LUAD - COAD est 1.86\n",
      "les classes LUAD - COAD ne sont pas bien separees.\n",
      "L'overlap de BRCA - KIRC est 1.52\n",
      "les classes BRCA - KIRC ne sont pas bien separees.\n",
      "L'overlap de BRCA - COAD est 1.65\n",
      "les classes BRCA - COAD ne sont pas bien separees.\n",
      "L'overlap de KIRC - COAD est 1.28\n",
      "les classes KIRC - COAD ne sont pas bien separees.\n"
     ]
    }
   ],
   "source": [
    "overlap_cosinus={}\n",
    "\n",
    "for i,classe_i in enumerate(liste_classe):\n",
    "    \n",
    "    for j,classe_j in enumerate(liste_classe[i+1:],start=i+1):\n",
    "        key=f\"{classe_i} - {classe_j}\"\n",
    "        distance_inter_i_j= distance_inter_classe_cosinus[key]\n",
    "\n",
    "        #Calcul de l'overlap\n",
    "        overlap_i_j = (distance_intra_classe_cosinus[classe_i] + distance_intra_classe_cosinus[classe_j])/ (2 * distance_inter_i_j)\n",
    "        overlap_cosinus[key]=overlap_i_j\n",
    "\n",
    "\n",
    "for classe, distance in overlap_cosinus.items():\n",
    "    print(f\"L'overlap de {classe} est {distance:.2f}\")\n",
    "\n",
    "    if distance < 1:\n",
    "        print(f\"les classes {classe} sont bien separees.\")\n",
    "    else:\n",
    "        print(f\"les classes {classe} ne sont pas bien separees.\")\n"
   ]
  },
  {
   "cell_type": "markdown",
   "metadata": {},
   "source": [
    "## 1.4 Distance Mahalanobis"
   ]
  },
  {
   "cell_type": "code",
   "execution_count": 20,
   "metadata": {},
   "outputs": [],
   "source": [
    "#Selection apres plusieurs de test de 150 attributs aleatoire pour la distance mahalanobis\n",
    "#df_mahalanobis_selection=df_filtree.iloc[:,13700:13850]\n",
    "df_mahalanobis_selection=df_filtree.iloc[:,12700:12850]\n",
    "df_mahalanobis_selection['Class']=df_filtree['Class']"
   ]
  },
  {
   "cell_type": "code",
   "execution_count": 21,
   "metadata": {},
   "outputs": [],
   "source": [
    "\n",
    "centre_des_classe_mahalanobis= {}\n",
    "\n",
    "#Centre des classes pour la selection des attributs \n",
    "for classe in liste_classe:\n",
    "    df_classe_i = df_mahalanobis_selection[df_mahalanobis_selection['Class']==classe]\n",
    "    centre_df_classe_i = df_classe_i.drop(columns='Class',axis=1).mean()\n",
    "    \n",
    "    centre_des_classe_mahalanobis[classe]= centre_df_classe_i\n"
   ]
  },
  {
   "cell_type": "markdown",
   "metadata": {},
   "source": [
    "### - Distance intra-classe (Mahalanobis)"
   ]
  },
  {
   "cell_type": "code",
   "execution_count": 22,
   "metadata": {},
   "outputs": [
    {
     "name": "stdout",
     "output_type": "stream",
     "text": [
      "La distance intra-classe entre PRAD est 11.58\n",
      "La distance intra-classe entre LUAD est 11.79\n",
      "La distance intra-classe entre BRCA est 15.71\n",
      "La distance intra-classe entre KIRC est 12.00\n",
      "La distance intra-classe entre COAD est 8.72\n"
     ]
    }
   ],
   "source": [
    "distance_intra_classe_mahalanobis={}\n",
    "\n",
    "for classe  in liste_classe:\n",
    "    \n",
    "    dfclasse=df_mahalanobis_selection[df_mahalanobis_selection['Class']==classe]\n",
    "    dfclasse_without_target=dfclasse.drop(columns='Class',axis=1).values\n",
    "\n",
    "    #Calcul de la covariance \n",
    "    cov= np.cov(dfclasse_without_target.T)\n",
    "\n",
    "    dist = [mahalanobis(dfclasse_without_target[i,:],centre_des_classe_mahalanobis[classe],np.linalg.pinv(cov)) for i in range(dfclasse_without_target.shape[0]) ]\n",
    "        \n",
    "    distance_intra_classe_mahalanobis[classe]= max(dist)\n",
    "\n",
    "\n",
    "for classe, distance in distance_intra_classe_mahalanobis.items():\n",
    "    print(f\"La distance intra-classe entre {classe} est {distance:.2f}\")"
   ]
  },
  {
   "cell_type": "markdown",
   "metadata": {},
   "source": [
    "### - Distance inter-classe (Mahalanobis)"
   ]
  },
  {
   "cell_type": "code",
   "execution_count": 23,
   "metadata": {},
   "outputs": [
    {
     "name": "stdout",
     "output_type": "stream",
     "text": [
      "La distance inter-classe entre PRAD - LUAD est 46.07\n",
      "La distance inter-classe entre PRAD - BRCA est 21.84\n",
      "La distance inter-classe entre PRAD - KIRC est 75.98\n",
      "La distance inter-classe entre PRAD - COAD est 16.66\n",
      "La distance inter-classe entre LUAD - BRCA est 19.10\n",
      "La distance inter-classe entre LUAD - KIRC est 36.11\n",
      "La distance inter-classe entre LUAD - COAD est 16.45\n",
      "La distance inter-classe entre BRCA - KIRC est 24.74\n",
      "La distance inter-classe entre BRCA - COAD est 19.60\n",
      "La distance inter-classe entre KIRC - COAD est 15.32\n"
     ]
    }
   ],
   "source": [
    "distance_inter_classe_mahalanobis={}\n",
    "\n",
    "for classe_i,classe_j  in itertools.combinations(liste_classe,2):\n",
    "\n",
    "   dfclasse_i = df_mahalanobis_selection[df_mahalanobis_selection['Class']==classe_i]\n",
    "   dfclasse_without_target_i = dfclasse_i.drop(columns='Class',axis=1)\n",
    "\n",
    "   dfclasse_j = df_mahalanobis_selection[df_mahalanobis_selection['Class']==classe_j]\n",
    "   dfclasse_without_target_j = dfclasse_j.drop(columns='Class',axis=1)\n",
    "\n",
    "\n",
    "   dist_i_j = [mahalanobis(dfclasse_without_target_i.iloc[x,:],centre_des_classe_mahalanobis[classe_j].values,np.linalg.pinv(np.cov(dfclasse_without_target_j.T)))\n",
    "               for x in range(dfclasse_without_target_i.shape[0])]\n",
    "   \n",
    "\n",
    "   dist_j_i = [mahalanobis(dfclasse_without_target_j.iloc[z,:],centre_des_classe_mahalanobis[classe_i].values,np.linalg.pinv(np.cov(dfclasse_without_target_i.T))) \n",
    "                     for z in range(dfclasse_without_target_j.shape[0])]\n",
    "    \n",
    "      \n",
    "   distance_inter_classe_mahalanobis[f\"{classe_i} - {classe_j}\"]= min(min(dist_i_j), min(dist_j_i))\n",
    "\n",
    "for classe, distance in distance_inter_classe_mahalanobis.items():\n",
    "   print(f\"La distance inter-classe entre {classe} est {distance:.2f}\")\n"
   ]
  },
  {
   "cell_type": "markdown",
   "metadata": {},
   "source": [
    "### - Overlap (Mahalanobis)"
   ]
  },
  {
   "cell_type": "code",
   "execution_count": 24,
   "metadata": {},
   "outputs": [
    {
     "name": "stdout",
     "output_type": "stream",
     "text": [
      "L'overlap de PRAD - LUAD est 0.25\n",
      "les classes PRAD - LUAD sont bien separees.\n",
      "L'overlap de PRAD - BRCA est 0.62\n",
      "les classes PRAD - BRCA sont bien separees.\n",
      "L'overlap de PRAD - KIRC est 0.16\n",
      "les classes PRAD - KIRC sont bien separees.\n",
      "L'overlap de PRAD - COAD est 0.61\n",
      "les classes PRAD - COAD sont bien separees.\n",
      "L'overlap de LUAD - BRCA est 0.72\n",
      "les classes LUAD - BRCA sont bien separees.\n",
      "L'overlap de LUAD - KIRC est 0.33\n",
      "les classes LUAD - KIRC sont bien separees.\n",
      "L'overlap de LUAD - COAD est 0.62\n",
      "les classes LUAD - COAD sont bien separees.\n",
      "L'overlap de BRCA - KIRC est 0.56\n",
      "les classes BRCA - KIRC sont bien separees.\n",
      "L'overlap de BRCA - COAD est 0.62\n",
      "les classes BRCA - COAD sont bien separees.\n",
      "L'overlap de KIRC - COAD est 0.68\n",
      "les classes KIRC - COAD sont bien separees.\n"
     ]
    }
   ],
   "source": [
    "overlap_mahalanobis={}\n",
    "\n",
    "for i,classe_i in enumerate(liste_classe):\n",
    "    \n",
    "    for classe_j in liste_classe[i+1:]:\n",
    "        key=f\"{classe_i} - {classe_j}\"\n",
    "        distance_inter_i_j= distance_inter_classe_mahalanobis[key]\n",
    "\n",
    "        overlap_i_j = (distance_intra_classe_mahalanobis[classe_i] + distance_intra_classe_mahalanobis[classe_j])/ (2 * distance_inter_i_j)\n",
    "        overlap_mahalanobis[key]=overlap_i_j\n",
    "\n",
    "\n",
    "for key, value in overlap_mahalanobis.items():\n",
    "    print(f\"L'overlap de {key} est {value:.2f}\")\n",
    "\n",
    "    if value < 1:\n",
    "        print(f\"les classes {key} sont bien separees.\")\n",
    "    else:\n",
    "        print(f\"les classes {key} ne sont pas bien separees.\")\n"
   ]
  },
  {
   "cell_type": "markdown",
   "metadata": {},
   "source": [
    "# 2- Visualisation des donnees"
   ]
  },
  {
   "cell_type": "markdown",
   "metadata": {},
   "source": [
    "## 2-1 Distribution de"
   ]
  },
  {
   "cell_type": "code",
   "execution_count": 2,
   "metadata": {},
   "outputs": [
    {
     "ename": "NameError",
     "evalue": "name 'df_filtree' is not defined",
     "output_type": "error",
     "traceback": [
      "\u001b[0;31m---------------------------------------------------------------------------\u001b[0m",
      "\u001b[0;31mNameError\u001b[0m                                 Traceback (most recent call last)",
      "Cell \u001b[0;32mIn[2], line 6\u001b[0m\n\u001b[1;32m      3\u001b[0m class_data \u001b[38;5;241m=\u001b[39m {}\n\u001b[1;32m      5\u001b[0m \u001b[38;5;66;03m# Création d'un sous ensemble composés des attributs choisis\u001b[39;00m\n\u001b[0;32m----> 6\u001b[0m df_selected \u001b[38;5;241m=\u001b[39m \u001b[43mdf_filtree\u001b[49m[attributs_sel]\n\u001b[1;32m      8\u001b[0m \u001b[38;5;28;01mfor\u001b[39;00m classe \u001b[38;5;129;01min\u001b[39;00m df_selected[\u001b[38;5;124m'\u001b[39m\u001b[38;5;124mClass\u001b[39m\u001b[38;5;124m'\u001b[39m]\u001b[38;5;241m.\u001b[39munique():\n\u001b[1;32m      9\u001b[0m     class_data[classe] \u001b[38;5;241m=\u001b[39m df_selected[df_selected[\u001b[38;5;124m'\u001b[39m\u001b[38;5;124mClass\u001b[39m\u001b[38;5;124m'\u001b[39m] \u001b[38;5;241m==\u001b[39m classe]\n",
      "\u001b[0;31mNameError\u001b[0m: name 'df_filtree' is not defined"
     ]
    }
   ],
   "source": [
    "attributs_sel =['gene_4', 'gene_20528','Class']\n",
    "\n",
    "class_data = {}\n",
    "\n",
    "# Création d'un sous ensemble composés des attributs choisis\n",
    "df_selected = df_filtree[attributs_sel]\n",
    "\n",
    "for classe in df_selected['Class'].unique():\n",
    "    class_data[classe] = df_selected[df_selected['Class'] == classe]\n"
   ]
  },
  {
   "cell_type": "code",
   "execution_count": null,
   "metadata": {},
   "outputs": [],
   "source": [
    "plt.figure(figsize=(19, 8))\n",
    "\n",
    "for i, attribut in enumerate(attributs_sel[:-1]):\n",
    "    \n",
    "    plt.subplot(1, 2, i + 1)\n",
    "    \n",
    "    for classe, data in class_data.items():\n",
    "        plt.hist(data[attribut], bins = 20, alpha = 0.5, label = classe)\n",
    "        \n",
    "    plt.xlabel(attribut)\n",
    "    plt.ylabel(\"Fréquence dans la classe\")\n",
    "    plt.title(f\"Distribution des classes pour le {attribut}\")\n",
    "    plt.legend()\n",
    "\n",
    "plt.tight_layout()\n",
    "plt.show()"
   ]
  },
  {
   "cell_type": "code",
   "execution_count": 25,
   "metadata": {},
   "outputs": [
    {
     "data": {
      "image/png": "[encoded data removed]",
      "text/plain": [
       "<Figure size 640x480 with 1 Axes>"
      ]
     },
     "metadata": {},
     "output_type": "display_data"
    }
   ],
   "source": [
    "#Histogramme\n",
    "\n",
    "fig,ax = plt.subplots(figsize=(10, 10))\n",
    "\n",
    "sns.histplot(df_filtree, x=\"gene_4\", hue=\"Class\", element=\"step\")\n",
    "plt.title(\"Histogramme de la distribution de gene_4 par classe\")\n",
    "plt.tight_layout()\n",
    "plt.show()"
   ]
  },
  {
   "cell_type": "code",
   "execution_count": 26,
   "metadata": {},
   "outputs": [
    {
     "data": {
      "image/png": "[encoded data removed]",
      "text/plain": [
       "<Figure size 600x600 with 3 Axes>"
      ]
     },
     "metadata": {},
     "output_type": "display_data"
    }
   ],
   "source": [
    "#Nuage de points\n",
    "\n",
    "sns.jointplot(data=df_filtree, x=\"gene_4\", y=\"gene_20528\", hue=\"Class\")\n",
    "plt.title(\"Nuage de la distribution de gene_4 par classe\")\n",
    "plt.tight_layout()\n",
    "plt.show()"
   ]
  },
  {
   "cell_type": "code",
   "execution_count": 27,
   "metadata": {},
   "outputs": [],
   "source": [
    "#ACP\n",
    "acp = PCA(n_components = 2)\n",
    "acp_result = acp.fit_transform(df_filtree.drop(columns = [\"Class\"]))\n",
    "\n",
    "acp_df = pd.DataFrame(data = acp_result, columns = [\"ACP1\",\"ACP2\"])\n",
    "acp_df[\"Class\"] = df_filtree[\"Class\"]"
   ]
  },
  {
   "cell_type": "code",
   "execution_count": 28,
   "metadata": {},
   "outputs": [],
   "source": [
    "#T-SNE\n"
   ]
  },
  {
   "cell_type": "markdown",
   "metadata": {},
   "source": [
    "# Notes\n",
    "\n",
    "- Je vais merge les deux datasets pour avoir la correspondance de chaque espece a sa classe\n",
    "- Apres je vais faire un pre-traitement vu qu'il y'a beaucoup de colonnes qui n'ont pas assez d'informations (Beaucoup de 0). La colonne Unamed:0 pourra etre enleve aussi.\n",
    "- Ensuite je pourrai proceder au calcul de distance\n",
    "- distance euclidienne la fonction nous permet l'operation par vecteur\n",
    "- distance cosinus on doit parcourir le df par ligne et faire l'addition\n",
    "- Lors du calcul de la matrice inv on a utilise pinv() au lieu de lieu de inv() par ce que les matrices ne sont pas carres\n",
    "- Les classes sont bien separees avec la distance mahalanobis contrairement aux autres"
   ]
  }
 ],
 "metadata": {
  "kernelspec": {
   "display_name": "Python 3",
   "language": "python",
   "name": "python3"
  },
  "language_info": {
   "codemirror_mode": {
    "name": "ipython",
    "version": 3
   },
   "file_extension": ".py",
   "mimetype": "text/x-python",
   "name": "python",
   "nbconvert_exporter": "python",
   "pygments_lexer": "ipython3",
   "version": "3.12.3"
  }
 },
 "nbformat": 4,
 "nbformat_minor": 2
}
