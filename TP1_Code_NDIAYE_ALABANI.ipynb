{
 "cells": [
  {
   "cell_type": "markdown",
   "metadata": {},
   "source": [
    "# TP1 Science des donnees - Chakirou ALABANI (alac_3501) - Amadou Selle NDIAYE (ndia2909)"
   ]
  },
  {
   "cell_type": "code",
   "execution_count": null,
   "metadata": {},
   "outputs": [
    {
     "ename": "",
     "evalue": "",
     "output_type": "error",
     "traceback": [
      "\u001b[1;31mRunning cells with 'Python 3.11.6' requires the ipykernel package.\n",
      "\u001b[1;31mRun the following command to install 'ipykernel' into the Python environment. \n",
      "\u001b[1;31mCommand: '/bin/python3 -m pip install ipykernel -U --user --force-reinstall'"
     ]
    }
   ],
   "source": [
    "import pandas as pd\n",
    "import numpy as np\n",
    "from scipy.spatial.distance import cosine,mahalanobis"
   ]
  },
  {
   "cell_type": "code",
   "execution_count": null,
   "metadata": {},
   "outputs": [],
   "source": [
    "data = pd.read_csv('data.csv')\n",
    "print(data.shape)\n",
    "data.head()"
   ]
  },
  {
   "cell_type": "code",
   "execution_count": null,
   "metadata": {},
   "outputs": [],
   "source": [
    "data_labels = pd.read_csv('labels.csv')\n",
    "print(data_labels.shape)\n",
    "data_labels.head()"
   ]
  },
  {
   "cell_type": "code",
   "execution_count": null,
   "metadata": {},
   "outputs": [],
   "source": [
    "print(data_labels['Class'][0])"
   ]
  },
  {
   "cell_type": "markdown",
   "metadata": {},
   "source": [
    "# Merge"
   ]
  },
  {
   "cell_type": "code",
   "execution_count": null,
   "metadata": {},
   "outputs": [],
   "source": [
    "df = pd.merge(data,data_labels, on='Unnamed: 0',how='inner')\n",
    "df.head()"
   ]
  },
  {
   "cell_type": "markdown",
   "metadata": {},
   "source": [
    "# Pre-traitement"
   ]
  },
  {
   "cell_type": "code",
   "execution_count": null,
   "metadata": {},
   "outputs": [],
   "source": [
    "#Suppression de 'Unnamed: 0'\n",
    "df= df.drop(columns=['Unnamed: 0'],axis=1)\n",
    "df.head()"
   ]
  },
  {
   "cell_type": "code",
   "execution_count": null,
   "metadata": {},
   "outputs": [],
   "source": [
    "#Suppression de toutes les colonnes avec plus de 75 % de valeurs nulles\n",
    "colonnes_a_supprimer=[]\n",
    "\n",
    "for i in df.columns:\n",
    "    s=0\n",
    "    for j in range(df.shape[0]):\n",
    "        if df[i][j] == 0:\n",
    "            s+=1\n",
    "    if (s/df.shape[0]) >= 0.75:\n",
    "        colonnes_a_supprimer.append(i)\n",
    "\n",
    "#print(colonnes_a_supprimer)\n",
    "len(colonnes_a_supprimer)"
   ]
  },
  {
   "cell_type": "code",
   "execution_count": 9,
   "metadata": {},
   "outputs": [],
   "source": [
    "df_filtree = df.drop(columns=colonnes_a_supprimer,axis=1)"
   ]
  },
  {
   "cell_type": "code",
   "execution_count": null,
   "metadata": {},
   "outputs": [],
   "source": [
    "df_filtree.shape"
   ]
  },
  {
   "cell_type": "code",
   "execution_count": null,
   "metadata": {},
   "outputs": [],
   "source": [
    "#Representation des classes\n",
    "df_filtree['Class'].value_counts()"
   ]
  },
  {
   "cell_type": "markdown",
   "metadata": {},
   "source": [
    "# Methode 1: Calcul de distances"
   ]
  },
  {
   "cell_type": "markdown",
   "metadata": {},
   "source": [
    "## 1.1 Calcul des centres de classes"
   ]
  },
  {
   "cell_type": "code",
   "execution_count": 12,
   "metadata": {},
   "outputs": [],
   "source": [
    "#centre des classes\n",
    "centre_des_classe= {}\n",
    "\n",
    "liste_classe = df_filtree['Class'].unique()\n",
    "\n",
    "for classe in liste_classe:\n",
    "    df_classe_i = df_filtree[df_filtree['Class']==classe]\n",
    "    centre_df_classe_i = df_classe_i.drop(columns='Class',axis=1).mean()\n",
    "    #print(centre_df_classe_i)\n",
    "    centre_des_classe[classe]= centre_df_classe_i\n"
   ]
  },
  {
   "cell_type": "markdown",
   "metadata": {},
   "source": [
    "## 1.2 Distance Euclidienne"
   ]
  },
  {
   "cell_type": "markdown",
   "metadata": {},
   "source": [
    "            ### Distance intra classe"
   ]
  },
  {
   "cell_type": "code",
   "execution_count": null,
   "metadata": {},
   "outputs": [],
   "source": [
    "\n",
    "distance_intra_classe_euclid={}\n",
    "\n",
    "for classe  in liste_classe:\n",
    "    \n",
    "    dfclasse=df_filtree[df_filtree['Class']==classe]\n",
    "    dfclasse_without_target=dfclasse.drop(columns='Class',axis=1)\n",
    "\n",
    "    \n",
    "    dist = np.linalg.norm(dfclasse_without_target- centre_des_classe[classe],axis=1)\n",
    "    \n",
    "    distance_intra_classe_euclid[classe]= max(dist)\n",
    "\n",
    "\n",
    "for key, value in distance_intra_classe_euclid.items():\n",
    "    print(f\"La distance intra-classe entre {key} est {value:.2f}\")"
   ]
  },
  {
   "cell_type": "markdown",
   "metadata": {},
   "source": [
    "            ### Distance inter classe"
   ]
  },
  {
   "cell_type": "code",
   "execution_count": null,
   "metadata": {},
   "outputs": [],
   "source": [
    "distance_inter_classe_euclid={}\n",
    "\n",
    "for i  in range(0,len(liste_classe)):\n",
    "\n",
    "    dfclasse_i=df_filtree[df_filtree['Class']==liste_classe[i]]\n",
    "    dfclasse_i_without_target=dfclasse_i.drop(columns='Class',axis=1)\n",
    "\n",
    "    for j in range(i+1,len(liste_classe)):\n",
    "        \n",
    "        min_list=[]\n",
    "\n",
    "        \n",
    "        dfclasse_j=df_filtree[df_filtree['Class']==liste_classe[j]]\n",
    "        dfclasse_j_without_target=dfclasse_j.drop(columns='Class',axis=1)\n",
    "\n",
    "        \n",
    "        dist_i_j = np.linalg.norm(dfclasse_i_without_target - centre_des_classe[liste_classe[j]],axis=1)\n",
    "        min_list.append(min(dist_i_j))\n",
    "\n",
    "        dist_j_i = np.linalg.norm(dfclasse_j_without_target - centre_des_classe[liste_classe[i]],axis=1)\n",
    "        min_list.append(min(dist_j_i))\n",
    "\n",
    "        distance_inter_classe_euclid[f\"{liste_classe[i]} - {liste_classe[j]}\"]= min(min_list)\n",
    "\n",
    "\n",
    "\n",
    "for key, value in distance_inter_classe_euclid.items():\n",
    "    print(f\"La distance inter-classe entre {key} est {value:.2f}\")\n"
   ]
  },
  {
   "cell_type": "markdown",
   "metadata": {},
   "source": [
    "            ### OverLap"
   ]
  },
  {
   "cell_type": "code",
   "execution_count": null,
   "metadata": {},
   "outputs": [],
   "source": [
    "overlap_euclid={}\n",
    "\n",
    "for i  in range(0,len(liste_classe)):\n",
    "    classe_i =liste_classe[i]\n",
    "    for j in range(i+1,len(liste_classe)):\n",
    "        \n",
    "        classe_j =liste_classe[j]\n",
    "\n",
    "        distance_inter_i_j= distance_inter_classe_euclid[f\"{classe_i} - {classe_j}\"]\n",
    "\n",
    "        overlap_i_j = (distance_intra_classe_euclid[classe_i] + distance_intra_classe_euclid[classe_j])/ (2 * distance_inter_i_j)\n",
    "        overlap_euclid[f\"{classe_i} - {classe_j}\"]=overlap_i_j\n",
    "\n",
    "\n",
    "for key, value in overlap_euclid.items():\n",
    "    print(f\"L'overlap de {key} est {value:.2f}\")\n",
    "\n",
    "    if value < 1:\n",
    "        print(f\"les classes {key} sont bien separees.\")\n",
    "    else:\n",
    "        print(f\"les classes {key} ne sont pas bien separees.\")\n"
   ]
  },
  {
   "cell_type": "markdown",
   "metadata": {},
   "source": [
    "## 1.3 Distance Cosinus"
   ]
  },
  {
   "cell_type": "markdown",
   "metadata": {},
   "source": [
    "            ### Distance intra classe"
   ]
  },
  {
   "cell_type": "code",
   "execution_count": null,
   "metadata": {},
   "outputs": [],
   "source": [
    "distance_intra_classe_cosinus={}\n",
    "\n",
    "for classe  in liste_classe:\n",
    "    list_dist=[]\n",
    "    \n",
    "    dfclasse=df_filtree[df_filtree['Class']==classe]\n",
    "    dfclasse_without_target=dfclasse.drop(columns='Class',axis=1)\n",
    "\n",
    "    for i in range(dfclasse_without_target.shape[0]):\n",
    "        dist = cosine(dfclasse_without_target.iloc[i,:],centre_des_classe[classe])\n",
    "        list_dist.append(dist)\n",
    "\n",
    "    distance_intra_classe_cosinus[classe]= max(list_dist)\n",
    "\n",
    "\n",
    "for key, value in distance_intra_classe_cosinus.items():\n",
    "    print(f\"La distance intra-classe entre {key} est {value:.4f}\")"
   ]
  },
  {
   "cell_type": "markdown",
   "metadata": {},
   "source": [
    "            ### Distance inter classe"
   ]
  },
  {
   "cell_type": "code",
   "execution_count": null,
   "metadata": {},
   "outputs": [],
   "source": [
    "distance_inter_classe_coinus={}\n",
    "\n",
    "for i  in range(0,len(liste_classe)):\n",
    "\n",
    "    dfclasse_i=df_filtree[df_filtree['Class']==liste_classe[i]]\n",
    "    dfclasse_i_without_target=dfclasse_i.drop(columns='Class',axis=1)\n",
    "\n",
    "    for j in range(i+1,len(liste_classe)):\n",
    "        \n",
    "        \n",
    "        min_list=[]\n",
    "\n",
    "        dfclasse_j=df_filtree[df_filtree['Class']==liste_classe[j]]\n",
    "        dfclasse_j_without_target=dfclasse_j.drop(columns='Class',axis=1)\n",
    "\n",
    "        listx=[]\n",
    "        for x in range(dfclasse_i_without_target.shape[0]):\n",
    "            dist_i_j = cosine(dfclasse_i_without_target.iloc[x,:], centre_des_classe[liste_classe[j]])\n",
    "            listx.append(dist_i_j)\n",
    "\n",
    "        min_list.append(min(listx))\n",
    "        \n",
    "        listz=[]\n",
    "        for z in range(dfclasse_j_without_target.shape[0]):\n",
    "            dist_j_i = cosine(dfclasse_j_without_target.iloc[z,:], centre_des_classe[liste_classe[i]])\n",
    "            listz.append(dist_j_i)\n",
    "\n",
    "        min_list.append(min(listz))\n",
    "        \n",
    "        distance_inter_classe_coinus[f\"{liste_classe[i]} - {liste_classe[j]}\"]= min(min_list)\n",
    "\n",
    "\n",
    "\n",
    "for key, value in distance_inter_classe_coinus.items():\n",
    "    print(f\"La distance inter-classe entre {key} est {value:.4f}\")\n"
   ]
  },
  {
   "cell_type": "markdown",
   "metadata": {},
   "source": [
    "            ### Overlap"
   ]
  },
  {
   "cell_type": "code",
   "execution_count": null,
   "metadata": {},
   "outputs": [],
   "source": [
    "overlap_cosinus={}\n",
    "\n",
    "for i  in range(0,len(liste_classe)):\n",
    "    classe_i =liste_classe[i]\n",
    "    for j in range(i+1,len(liste_classe)):\n",
    "        \n",
    "        classe_j =liste_classe[j]\n",
    "\n",
    "        distance_inter_i_j= distance_inter_classe_coinus[f\"{classe_i} - {classe_j}\"]\n",
    "\n",
    "        overlap_i_j = (distance_intra_classe_cosinus[classe_i] + distance_intra_classe_cosinus[classe_j])/ (2 * distance_inter_i_j)\n",
    "        overlap_cosinus[f\"{classe_i} - {classe_j}\"]=overlap_i_j\n",
    "\n",
    "\n",
    "for key, value in overlap_cosinus.items():\n",
    "    print(f\"L'overlap de {key} est {value:.2f}\")\n",
    "\n",
    "    if value < 1:\n",
    "        print(f\"les classes {key} sont bien separees.\")\n",
    "    else:\n",
    "        print(f\"les classes {key} ne sont pas bien separees.\")\n"
   ]
  },
  {
   "cell_type": "markdown",
   "metadata": {},
   "source": [
    "## 1.4 Distance Mahalanobis"
   ]
  },
  {
   "cell_type": "code",
   "execution_count": 19,
   "metadata": {},
   "outputs": [],
   "source": [
    "df_mahalanobis_selection=df_filtree.iloc[:,13700:13850]\n",
    "df_mahalanobis_selection['Class']=df_filtree['Class']"
   ]
  },
  {
   "cell_type": "code",
   "execution_count": 52,
   "metadata": {},
   "outputs": [],
   "source": [
    "#centre des classes\n",
    "centre_des_classe_mahalanobis= {}\n",
    "\n",
    "\n",
    "for classe in liste_classe:\n",
    "    df_classe_i = df_mahalanobis_selection[df_mahalanobis_selection['Class']==classe]\n",
    "    centre_df_classe_i = df_classe_i.drop(columns='Class',axis=1).mean()\n",
    "    \n",
    "    centre_des_classe_mahalanobis[classe]= centre_df_classe_i\n"
   ]
  },
  {
   "cell_type": "markdown",
   "metadata": {},
   "source": [
    "            ### Distance intra classe"
   ]
  },
  {
   "cell_type": "code",
   "execution_count": null,
   "metadata": {},
   "outputs": [],
   "source": [
    "distance_intra_classe_mahalanobis={}\n",
    "\n",
    "for classe  in liste_classe:\n",
    "    list_dist=[]\n",
    "    \n",
    "    dfclasse=df_mahalanobis_selection[df_mahalanobis_selection['Class']==classe]\n",
    "    dfclasse_without_target=dfclasse.drop(columns='Class',axis=1).values\n",
    "\n",
    "    cov= np.cov(dfclasse_without_target.T,ddof=1)\n",
    "\n",
    "    for i in range(dfclasse_without_target.shape[0]):\n",
    "        dist = mahalanobis(dfclasse_without_target[i,:],centre_des_classe_mahalanobis[classe],np.linalg.pinv(cov))\n",
    "        list_dist.append(dist)\n",
    "\n",
    "    distance_intra_classe_mahalanobis[classe]= max(list_dist)\n",
    "\n",
    "\n",
    "for key, value in distance_intra_classe_mahalanobis.items():\n",
    "    print(f\"La distance intra-classe entre {key} est {value:.2f}\")"
   ]
  },
  {
   "cell_type": "markdown",
   "metadata": {},
   "source": [
    "            ### Distance inter classe"
   ]
  },
  {
   "cell_type": "code",
   "execution_count": null,
   "metadata": {},
   "outputs": [],
   "source": [
    "distance_inter_classe_mahalanobis={}\n",
    "\n",
    "for i  in range(0,len(liste_classe)):\n",
    "\n",
    "   dfclasse_i = df_mahalanobis_selection[df_mahalanobis_selection['Class']==liste_classe[i]]\n",
    "   dfclasse_without_target_i = dfclasse.drop(columns='Class',axis=1)\n",
    "\n",
    "   list_dist =[]\n",
    "\n",
    "   for j in range(i+1,len(liste_classe)):\n",
    "      dfclasse_j = df_mahalanobis_selection[df_mahalanobis_selection['Class']==liste_classe[j]]\n",
    "      dfclasse_without_target_j = dfclasse.drop(columns='Class',axis=1)\n",
    "   \n",
    "   \n",
    "      listx=[]\n",
    "      for x in range(dfclasse_without_target_i.shape[0]):\n",
    "         dist_i_j = mahalanobis(dfclasse_without_target_i.iloc[x,:],centre_des_classe_mahalanobis[liste_classe[j]].values,np.linalg.pinv(np.cov(dfclasse_without_target_j.T)))\n",
    "         listx.append(dist_i_j)\n",
    "\n",
    "      list_dist.append(min(listx))\n",
    "\n",
    "      listz=[]\n",
    "      for z in range(dfclasse_without_target_j.shape[0]):\n",
    "         dist_j_i = mahalanobis(dfclasse_without_target_j.iloc[z,:],centre_des_classe_mahalanobis[liste_classe[i]].values,np.linalg.pinv(np.cov(dfclasse_without_target_i.T)))\n",
    "         listz.append(dist_j_i)\n",
    "      \n",
    "      list_dist.append(min(listz))\n",
    "\n",
    "      distance_inter_classe_mahalanobis[f\"{liste_classe[i]} - {liste_classe[j]}\"]= min(list_dist)\n",
    "\n",
    "for key, value in distance_inter_classe_mahalanobis.items():\n",
    "   print(f\"La distance inter-classe entre {key} est {value:.2f}\")\n"
   ]
  },
  {
   "cell_type": "markdown",
   "metadata": {},
   "source": [
    "            ### Overlap"
   ]
  },
  {
   "cell_type": "code",
   "execution_count": null,
   "metadata": {},
   "outputs": [],
   "source": [
    "overlap_mahalanobis={}\n",
    "\n",
    "for i  in range(0,len(liste_classe)):\n",
    "    classe_i =liste_classe[i]\n",
    "    for j in range(i+1,len(liste_classe)):\n",
    "        \n",
    "        classe_j =liste_classe[j]\n",
    "\n",
    "        distance_inter_i_j= distance_inter_classe_mahalanobis[f\"{classe_i} - {classe_j}\"]\n",
    "\n",
    "        overlap_i_j = (distance_intra_classe_mahalanobis[classe_i] + distance_intra_classe_mahalanobis[classe_j])/ (2 * distance_inter_i_j)\n",
    "        overlap_mahalanobis[f\"{classe_i} - {classe_j}\"]=overlap_i_j\n",
    "\n",
    "\n",
    "for key, value in overlap_mahalanobis.items():\n",
    "    print(f\"L'overlap de {key} est {value:.2f}\")\n",
    "\n",
    "    if value < 1:\n",
    "        print(f\"les classes {key} sont bien separees.\")\n",
    "    else:\n",
    "        print(f\"les classes {key} ne sont pas bien separees.\")\n"
   ]
  },
  {
   "cell_type": "markdown",
   "metadata": {},
   "source": [
    "# Notes\n",
    "\n",
    "- Je vais merge les deux datasets pour avoir la correspondance de chaque espece a sa classe\n",
    "- Apres je vais faire un pre-traitement vu qu'il y'a beaucoup de colonnes qui n'ont pas assez d'informations (Beaucoup de 0). La colonne Unamed:0 pourra etre enleve aussi.\n",
    "- Ensuite je pourrai proceder au calcul de distance\n",
    "- distance euclidienne la fonction nous permet l'operation par vecteur\n",
    "- distance cosinus on doit parcourir le df par ligne et faire l'addition\n",
    "- Lors du calcul de la matrice inv on a utilise pinv() au lieu de lieu de inv() par ce que les matrices n'etaient pas carres"
   ]
  }
 ],
 "metadata": {
  "kernelspec": {
   "display_name": "Python 3",
   "language": "python",
   "name": "python3"
  },
  "language_info": {
   "codemirror_mode": {
    "name": "ipython",
    "version": 3
   },
   "file_extension": ".py",
   "mimetype": "text/x-python",
   "name": "python",
   "nbconvert_exporter": "python",
   "pygments_lexer": "ipython3",
   "version": "3.11.6"
  }
 },
 "nbformat": 4,
 "nbformat_minor": 2
}
